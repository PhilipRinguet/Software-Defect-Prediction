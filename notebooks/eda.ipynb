{
 "cells": [
  {
   "cell_type": "markdown",
   "id": "a8897493",
   "metadata": {},
   "source": [
    "# Import Required Libraries\n",
    "Import libraries such as pandas, numpy, matplotlib, and seaborn for data analysis and visualization."
   ]
  },
  {
   "cell_type": "code",
   "execution_count": null,
   "id": "967beb33",
   "metadata": {},
   "outputs": [],
   "source": [
    "# Import Required Libraries\n",
    "import pandas as pd\n",
    "import numpy as np\n",
    "import matplotlib.pyplot as plt\n",
    "import seaborn as sns\n",
    "\n",
    "# Set visualization style\n",
    "sns.set(style=\"whitegrid\")"
   ]
  },
  {
   "cell_type": "markdown",
   "id": "3453b948",
   "metadata": {},
   "source": [
    "# Load Dataset\n",
    "Load the dataset into a pandas DataFrame and display basic information such as shape, column names, and data types."
   ]
  },
  {
   "cell_type": "code",
   "execution_count": null,
   "id": "2da28a2e",
   "metadata": {},
   "outputs": [],
   "source": [
    "# Load Dataset\n",
    "file_path = \"../data/software_defects.csv\"  # Update with the actual dataset path\n",
    "df = pd.read_csv(file_path)\n",
    "\n",
    "# Display basic information\n",
    "print(\"Dataset Shape:\", df.shape)\n",
    "print(\"\\nColumn Names:\", df.columns.tolist())\n",
    "print(\"\\nData Types:\\n\", df.dtypes)\n",
    "df.head()"
   ]
  },
  {
   "cell_type": "markdown",
   "id": "2edf4bb1",
   "metadata": {},
   "source": [
    "# Analyze Distributions\n",
    "Visualize the distributions of numerical features using histograms and KDE plots."
   ]
  },
  {
   "cell_type": "code",
   "execution_count": null,
   "id": "3775bfb3",
   "metadata": {},
   "outputs": [],
   "source": [
    "# Analyze Distributions\n",
    "numerical_features = df.select_dtypes(include=[\"int64\", \"float64\"]).columns\n",
    "\n",
    "# Plot histograms and KDE plots\n",
    "for feature in numerical_features:\n",
    "    plt.figure(figsize=(10, 5))\n",
    "    sns.histplot(df[feature], kde=True, bins=30, color=\"blue\")\n",
    "    plt.title(f\"Distribution of {feature}\")\n",
    "    plt.xlabel(feature)\n",
    "    plt.ylabel(\"Frequency\")\n",
    "    plt.show()"
   ]
  },
  {
   "cell_type": "markdown",
   "id": "bdc8597b",
   "metadata": {},
   "source": [
    "# Generate Correlation Matrix\n",
    "Compute and visualize the correlation matrix using seaborn's heatmap to identify relationships between features."
   ]
  },
  {
   "cell_type": "code",
   "execution_count": null,
   "id": "2e891ad3",
   "metadata": {},
   "outputs": [],
   "source": [
    "# Generate Correlation Matrix\n",
    "correlation_matrix = df.corr()\n",
    "\n",
    "# Plot heatmap\n",
    "plt.figure(figsize=(12, 8))\n",
    "sns.heatmap(correlation_matrix, annot=True, fmt=\".2f\", cmap=\"coolwarm\", cbar=True)\n",
    "plt.title(\"Correlation Matrix\")\n",
    "plt.show()"
   ]
  },
  {
   "cell_type": "markdown",
   "id": "4e5b1827",
   "metadata": {},
   "source": [
    "# Detect Outliers\n",
    "Use boxplots and statistical methods to detect and visualize outliers in the dataset."
   ]
  },
  {
   "cell_type": "code",
   "execution_count": null,
   "id": "d868d3af",
   "metadata": {},
   "outputs": [],
   "source": [
    "# Detect Outliers\n",
    "for feature in numerical_features:\n",
    "    plt.figure(figsize=(10, 5))\n",
    "    sns.boxplot(x=df[feature], color=\"orange\")\n",
    "    plt.title(f\"Boxplot of {feature}\")\n",
    "    plt.xlabel(feature)\n",
    "    plt.show()"
   ]
  },
  {
   "cell_type": "markdown",
   "id": "2f95595c",
   "metadata": {},
   "source": [
    "# Analyze Class Distributions\n",
    "Examine the distribution of the target variable (e.g., defect vs. no defect) using bar plots or pie charts."
   ]
  },
  {
   "cell_type": "code",
   "execution_count": null,
   "id": "fe80c340",
   "metadata": {},
   "outputs": [],
   "source": [
    "# Analyze Class Distributions\n",
    "target_variable = \"defect_status\"  # Update with the actual target column name\n",
    "\n",
    "# Bar plot for class distribution\n",
    "plt.figure(figsize=(8, 5))\n",
    "sns.countplot(x=df[target_variable], palette=\"viridis\")\n",
    "plt.title(\"Class Distribution\")\n",
    "plt.xlabel(\"Class\")\n",
    "plt.ylabel(\"Count\")\n",
    "plt.show()\n",
    "\n",
    "# Pie chart for class distribution\n",
    "class_counts = df[target_variable].value_counts()\n",
    "plt.figure(figsize=(8, 8))\n",
    "plt.pie(class_counts, labels=class_counts.index, autopct=\"%1.1f%%\", startangle=90, colors=sns.color_palette(\"viridis\"))\n",
    "plt.title(\"Class Distribution\")\n",
    "plt.show()"
   ]
  }
 ],
 "metadata": {
  "language_info": {
   "name": "python"
  }
 },
 "nbformat": 4,
 "nbformat_minor": 5
}
