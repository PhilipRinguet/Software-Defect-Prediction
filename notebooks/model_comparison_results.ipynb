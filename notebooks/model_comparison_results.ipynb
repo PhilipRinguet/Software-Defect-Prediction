{
 "cells": [
  {
   "cell_type": "markdown",
   "id": "37ba2384",
   "metadata": {},
   "source": [
    "# Model Comparison Results\n",
    "\n",
    "This notebook analyzes and visualizes the results of our software defect prediction models (SVM-RBF, Balanced Random Forest, and XGBoost)."
   ]
  },
  {
   "cell_type": "code",
   "execution_count": 1,
   "id": "a4ca721d",
   "metadata": {},
   "outputs": [],
   "source": [
    "import os\n",
    "import json\n",
    "import pandas as pd\n",
    "import numpy as np\n",
    "import matplotlib.pyplot as plt\n",
    "import seaborn as sns\n",
    "from IPython.display import display\n",
    "\n",
    "# Set visualization parameters\n",
    "sns.set(style='whitegrid')\n",
    "plt.rcParams['figure.figsize'] = [12, 8]\n",
    "plt.rcParams['font.size'] = 12"
   ]
  },
  {
   "cell_type": "markdown",
   "id": "68b5c9e6",
   "metadata": {},
   "source": [
    "## 1. Load Model Comparison Results\n",
    "Load the results from our model comparison experiments."
   ]
  },
  {
   "cell_type": "code",
   "execution_count": 5,
   "id": "87c82c5d",
   "metadata": {},
   "outputs": [
    {
     "ename": "FileNotFoundError",
     "evalue": "[Errno 2] No such file or directory: '..\\\\reports\\\\model_comparison\\\\model_comparison_results.json'",
     "output_type": "error",
     "traceback": [
      "\u001b[1;31m---------------------------------------------------------------------------\u001b[0m",
      "\u001b[1;31mFileNotFoundError\u001b[0m                         Traceback (most recent call last)",
      "Cell \u001b[1;32mIn[5], line 4\u001b[0m\n\u001b[0;32m      1\u001b[0m \u001b[38;5;66;03m# Load results from JSON file\u001b[39;00m\n\u001b[0;32m      2\u001b[0m results_path \u001b[38;5;241m=\u001b[39m os\u001b[38;5;241m.\u001b[39mpath\u001b[38;5;241m.\u001b[39mjoin(\u001b[38;5;124m'\u001b[39m\u001b[38;5;124m..\u001b[39m\u001b[38;5;124m'\u001b[39m, \u001b[38;5;124m'\u001b[39m\u001b[38;5;124mreports\u001b[39m\u001b[38;5;124m'\u001b[39m, \u001b[38;5;124m'\u001b[39m\u001b[38;5;124mmodel_comparison\u001b[39m\u001b[38;5;124m'\u001b[39m, \u001b[38;5;124m'\u001b[39m\u001b[38;5;124mmodel_comparison_results.json\u001b[39m\u001b[38;5;124m'\u001b[39m)\n\u001b[1;32m----> 4\u001b[0m \u001b[38;5;28;01mwith\u001b[39;00m \u001b[38;5;28mopen\u001b[39m(results_path, \u001b[38;5;124m'\u001b[39m\u001b[38;5;124mr\u001b[39m\u001b[38;5;124m'\u001b[39m) \u001b[38;5;28;01mas\u001b[39;00m f:\n\u001b[0;32m      5\u001b[0m     results \u001b[38;5;241m=\u001b[39m json\u001b[38;5;241m.\u001b[39mload(f)\n\u001b[0;32m      7\u001b[0m \u001b[38;5;66;03m# Convert to DataFrame\u001b[39;00m\n",
      "File \u001b[1;32mc:\\Users\\phili\\anaconda3\\envs\\softwaredefectprediction\\Lib\\site-packages\\IPython\\core\\interactiveshell.py:324\u001b[0m, in \u001b[0;36m_modified_open\u001b[1;34m(file, *args, **kwargs)\u001b[0m\n\u001b[0;32m    317\u001b[0m \u001b[38;5;28;01mif\u001b[39;00m file \u001b[38;5;129;01min\u001b[39;00m {\u001b[38;5;241m0\u001b[39m, \u001b[38;5;241m1\u001b[39m, \u001b[38;5;241m2\u001b[39m}:\n\u001b[0;32m    318\u001b[0m     \u001b[38;5;28;01mraise\u001b[39;00m \u001b[38;5;167;01mValueError\u001b[39;00m(\n\u001b[0;32m    319\u001b[0m         \u001b[38;5;124mf\u001b[39m\u001b[38;5;124m\"\u001b[39m\u001b[38;5;124mIPython won\u001b[39m\u001b[38;5;124m'\u001b[39m\u001b[38;5;124mt let you open fd=\u001b[39m\u001b[38;5;132;01m{\u001b[39;00mfile\u001b[38;5;132;01m}\u001b[39;00m\u001b[38;5;124m by default \u001b[39m\u001b[38;5;124m\"\u001b[39m\n\u001b[0;32m    320\u001b[0m         \u001b[38;5;124m\"\u001b[39m\u001b[38;5;124mas it is likely to crash IPython. If you know what you are doing, \u001b[39m\u001b[38;5;124m\"\u001b[39m\n\u001b[0;32m    321\u001b[0m         \u001b[38;5;124m\"\u001b[39m\u001b[38;5;124myou can use builtins\u001b[39m\u001b[38;5;124m'\u001b[39m\u001b[38;5;124m open.\u001b[39m\u001b[38;5;124m\"\u001b[39m\n\u001b[0;32m    322\u001b[0m     )\n\u001b[1;32m--> 324\u001b[0m \u001b[38;5;28;01mreturn\u001b[39;00m io_open(file, \u001b[38;5;241m*\u001b[39margs, \u001b[38;5;241m*\u001b[39m\u001b[38;5;241m*\u001b[39mkwargs)\n",
      "\u001b[1;31mFileNotFoundError\u001b[0m: [Errno 2] No such file or directory: '..\\\\reports\\\\model_comparison\\\\model_comparison_results.json'"
     ]
    }
   ],
   "source": [
    "# Load results from JSON file\n",
    "results_path = os.path.join('..', 'reports', 'model_comparison', 'model_comparison_results.json')\n",
    "\n",
    "with open(results_path, 'r') as f:\n",
    "    results = json.load(f)\n",
    "\n",
    "# Convert to DataFrame\n",
    "results_df = pd.DataFrame(results)\n",
    "results_df.set_index('model', inplace=True)\n",
    "\n",
    "# Display results\n",
    "print(\"Model Comparison Results:\")\n",
    "display(results_df.round(3))"
   ]
  },
  {
   "cell_type": "markdown",
   "id": "7bc63259",
   "metadata": {},
   "source": [
    "## 2. Visualize Model Performance\n",
    "Create bar plots to compare model performance across different metrics."
   ]
  },
  {
   "cell_type": "code",
   "execution_count": null,
   "id": "f72d8124",
   "metadata": {},
   "outputs": [],
   "source": [
    "def plot_model_comparison(results_df):\n",
    "    metrics = [\"Precision\", \"Recall\", \"F-beta Score\", \"PR-AUC\"]\n",
    "    model_names = results_df.index\n",
    "    n_models = len(model_names)\n",
    "    n_metrics = len(metrics)\n",
    "    \n",
    "    # Create subplots\n",
    "    fig, axes = plt.subplots(1, n_metrics, figsize=(20, 6), sharey=True)\n",
    "    fig.suptitle(\"Model Comparison Across Metrics\", fontsize=16, y=1.05)\n",
    "    \n",
    "    # Color palette\n",
    "    colors = plt.cm.viridis(np.linspace(0, 1, n_models))\n",
    "    \n",
    "    # Plot each metric\n",
    "    for i, metric in enumerate(metrics):\n",
    "        values = results_df[metric]\n",
    "        bars = axes[i].bar(range(n_models), values, color=colors)\n",
    "        \n",
    "        # Customize subplot\n",
    "        axes[i].set_title(metric)\n",
    "        axes[i].set_xticks(range(n_models))\n",
    "        axes[i].set_xticklabels(model_names, rotation=45, ha='right')\n",
    "        if i == 0:\n",
    "            axes[i].set_ylabel('Score')\n",
    "        \n",
    "        # Add value labels\n",
    "        for bar in bars:\n",
    "            height = bar.get_height()\n",
    "            axes[i].text(bar.get_x() + bar.get_width()/2., height,\n",
    "                        f'{height:.3f}',\n",
    "                        ha='center', va='bottom')\n",
    "    \n",
    "    plt.tight_layout()\n",
    "    return fig\n",
    "\n",
    "# Create visualization\n",
    "fig = plot_model_comparison(results_df)\n",
    "plt.show()"
   ]
  },
  {
   "cell_type": "markdown",
   "id": "15e84203",
   "metadata": {},
   "source": [
    "## 3. Model Ranking Analysis\n",
    "Rank models based on their performance across all metrics."
   ]
  },
  {
   "cell_type": "code",
   "execution_count": null,
   "id": "6f279b21",
   "metadata": {},
   "outputs": [],
   "source": [
    "# Calculate overall ranking based on mean performance across metrics\n",
    "metrics = [\"Precision\", \"Recall\", \"F-beta Score\", \"PR-AUC\"]\n",
    "rankings = results_df[metrics].rank(ascending=False)\n",
    "mean_ranks = rankings.mean(axis=1).sort_values()\n",
    "\n",
    "print(\"Model Rankings (lower is better):\")\n",
    "display(mean_ranks)\n",
    "\n",
    "# Best performing model\n",
    "best_model = mean_ranks.index[0]\n",
    "print(f\"\\nBest Overall Model: {best_model}\")\n",
    "print(\"\\nPerformance Metrics:\")\n",
    "display(results_df.loc[best_model].round(3))"
   ]
  },
  {
   "cell_type": "markdown",
   "id": "e10019de",
   "metadata": {},
   "source": [
    "## 4. Performance Trade-offs\n",
    "Analyze the trade-offs between precision and recall for each model."
   ]
  },
  {
   "cell_type": "code",
   "execution_count": null,
   "id": "57cd63f4",
   "metadata": {},
   "outputs": [],
   "source": [
    "# Create scatter plot of precision vs recall\n",
    "plt.figure(figsize=(10, 8))\n",
    "scatter = plt.scatter(results_df['Recall'], results_df['Precision'], \n",
    "                     c=results_df['F-beta Score'], cmap='viridis', \n",
    "                     s=200)\n",
    "\n",
    "# Add labels for each point\n",
    "for idx in results_df.index:\n",
    "    plt.annotate(idx, (results_df.loc[idx, 'Recall'], results_df.loc[idx, 'Precision']),\n",
    "                xytext=(5, 5), textcoords='offset points')\n",
    "\n",
    "plt.colorbar(scatter, label='F-beta Score')\n",
    "plt.xlabel('Recall')\n",
    "plt.ylabel('Precision')\n",
    "plt.title('Precision-Recall Trade-off by Model')\n",
    "plt.grid(True)\n",
    "plt.tight_layout()\n",
    "plt.show()"
   ]
  }
 ],
 "metadata": {
  "kernelspec": {
   "display_name": "softwaredefectprediction",
   "language": "python",
   "name": "python3"
  },
  "language_info": {
   "codemirror_mode": {
    "name": "ipython",
    "version": 3
   },
   "file_extension": ".py",
   "mimetype": "text/x-python",
   "name": "python",
   "nbconvert_exporter": "python",
   "pygments_lexer": "ipython3",
   "version": "3.12.7"
  }
 },
 "nbformat": 4,
 "nbformat_minor": 5
}
