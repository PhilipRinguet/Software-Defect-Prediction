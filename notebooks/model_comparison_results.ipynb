{
 "cells": [
  {
   "cell_type": "markdown",
   "id": "37ba2384",
   "metadata": {},
   "source": [
    "# Model Comparison Results\n",
    "\n",
    "This notebook analyzes and visualizes the results of our software defect prediction models (SVM-RBF, Balanced Random Forest, and XGBoost)."
   ]
  },
  {
   "cell_type": "code",
   "execution_count": null,
   "id": "a4ca721d",
   "metadata": {},
   "outputs": [],
   "source": [
    "import os\n",
    "import json\n",
    "import pandas as pd\n",
    "import numpy as np\n",
    "import matplotlib.pyplot as plt\n",
    "import seaborn as sns\n",
    "\n",
    "# Set style for better visualization\n",
    "plt.style.use('seaborn')\n",
    "plt.rcParams['figure.figsize'] = [12, 8]\n",
    "plt.rcParams['font.size'] = 12"
   ]
  },
  {
   "cell_type": "markdown",
   "id": "68b5c9e6",
   "metadata": {},
   "source": [
    "## 1. Load Model Comparison Results\n",
    "Load the results from our model comparison experiments."
   ]
  },
  {
   "cell_type": "code",
   "execution_count": null,
   "id": "87c82c5d",
   "metadata": {},
   "outputs": [],
   "source": [
    "# Load results from JSON file\n",
    "results_path = os.path.join('..', 'reports', 'model_comparison', 'model_comparison_results.json')\n",
    "\n",
    "with open(results_path, 'r') as f:\n",
    "    results = json.load(f)\n",
    "\n",
    "# Convert to DataFrame\n",
    "results_df = pd.DataFrame(results)\n",
    "results_df.set_index('model', inplace=True)\n",
    "\n",
    "# Display results\n",
    "print(\"Model Comparison Results:\")\n",
    "display(results_df.round(3))"
   ]
  },
  {
   "cell_type": "markdown",
   "id": "7bc63259",
   "metadata": {},
   "source": [
    "## 2. Visualize Model Performance\n",
    "Create bar plots to compare model performance across different metrics."
   ]
  },
  {
   "cell_type": "code",
   "execution_count": null,
   "id": "f72d8124",
   "metadata": {},
   "outputs": [],
   "source": [
    "def plot_model_comparison(results_df):\n",
    "    metrics = [\"Precision\", \"Recall\", \"F-beta Score\", \"PR-AUC\"]\n",
    "    model_names = results_df.index\n",
    "    n_models = len(model_names)\n",
    "    n_metrics = len(metrics)\n",
    "    \n",
    "    # Create subplots\n",
    "    fig, axes = plt.subplots(1, n_metrics, figsize=(20, 6), sharey=True)\n",
    "    fig.suptitle(\"Model Comparison Across Metrics\", fontsize=16, y=1.05)\n",
    "    \n",
    "    # Color palette\n",
    "    colors = plt.cm.viridis(np.linspace(0, 1, n_models))\n",
    "    \n",
    "    # Plot each metric\n",
    "    for i, metric in enumerate(metrics):\n",
    "        values = results_df[metric]\n",
    "        bars = axes[i].bar(range(n_models), values, color=colors)\n",
    "        \n",
    "        # Customize subplot\n",
    "        axes[i].set_title(metric)\n",
    "        axes[i].set_xticks(range(n_models))\n",
    "        axes[i].set_xticklabels(model_names, rotation=45, ha='right')\n",
    "        if i == 0:\n",
    "            axes[i].set_ylabel('Score')\n",
    "        \n",
    "        # Add value labels\n",
    "        for bar in bars:\n",
    "            height = bar.get_height()\n",
    "            axes[i].text(bar.get_x() + bar.get_width()/2., height,\n",
    "                        f'{height:.3f}',\n",
    "                        ha='center', va='bottom')\n",
    "    \n",
    "    plt.tight_layout()\n",
    "    return fig\n",
    "\n",
    "# Create visualization\n",
    "fig = plot_model_comparison(results_df)\n",
    "plt.show()"
   ]
  },
  {
   "cell_type": "markdown",
   "id": "15e84203",
   "metadata": {},
   "source": [
    "## 3. Model Ranking Analysis\n",
    "Rank models based on their performance across all metrics."
   ]
  },
  {
   "cell_type": "code",
   "execution_count": null,
   "id": "6f279b21",
   "metadata": {},
   "outputs": [],
   "source": [
    "# Calculate overall ranking based on mean performance across metrics\n",
    "metrics = [\"Precision\", \"Recall\", \"F-beta Score\", \"PR-AUC\"]\n",
    "rankings = results_df[metrics].rank(ascending=False)\n",
    "mean_ranks = rankings.mean(axis=1).sort_values()\n",
    "\n",
    "print(\"Model Rankings (lower is better):\")\n",
    "display(mean_ranks)\n",
    "\n",
    "# Best performing model\n",
    "best_model = mean_ranks.index[0]\n",
    "print(f\"\\nBest Overall Model: {best_model}\")\n",
    "print(\"\\nPerformance Metrics:\")\n",
    "display(results_df.loc[best_model].round(3))"
   ]
  },
  {
   "cell_type": "markdown",
   "id": "e10019de",
   "metadata": {},
   "source": [
    "## 4. Performance Trade-offs\n",
    "Analyze the trade-offs between precision and recall for each model."
   ]
  },
  {
   "cell_type": "code",
   "execution_count": null,
   "id": "57cd63f4",
   "metadata": {},
   "outputs": [],
   "source": [
    "# Create scatter plot of precision vs recall\n",
    "plt.figure(figsize=(10, 8))\n",
    "scatter = plt.scatter(results_df['Recall'], results_df['Precision'], \n",
    "                     c=results_df['F-beta Score'], cmap='viridis', \n",
    "                     s=200)\n",
    "\n",
    "# Add labels for each point\n",
    "for idx in results_df.index:\n",
    "    plt.annotate(idx, (results_df.loc[idx, 'Recall'], results_df.loc[idx, 'Precision']),\n",
    "                xytext=(5, 5), textcoords='offset points')\n",
    "\n",
    "plt.colorbar(scatter, label='F-beta Score')\n",
    "plt.xlabel('Recall')\n",
    "plt.ylabel('Precision')\n",
    "plt.title('Precision-Recall Trade-off by Model')\n",
    "plt.grid(True)\n",
    "plt.tight_layout()\n",
    "plt.show()"
   ]
  }
 ],
 "metadata": {
  "language_info": {
   "name": "python"
  }
 },
 "nbformat": 4,
 "nbformat_minor": 5
}
