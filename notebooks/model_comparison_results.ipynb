{
 "cells": [
  {
   "cell_type": "markdown",
   "id": "37ba2384",
   "metadata": {},
   "source": [
    "# Model Comparison Results\n",
    "\n",
    "This notebook visualizes and analyzes the results of our model comparison for software defect prediction."
   ]
  },
  {
   "cell_type": "code",
   "execution_count": null,
   "id": "a4ca721d",
   "metadata": {},
   "outputs": [],
   "source": [
    "import os\n",
    "import pandas as pd\n",
    "import numpy as np\n",
    "import matplotlib.pyplot as plt\n",
    "import seaborn as sns\n",
    "from src.models.model_comparison import ModelComparison"
   ]
  },
  {
   "cell_type": "markdown",
   "id": "68b5c9e6",
   "metadata": {},
   "source": [
    "## 1. Load Model Comparison Results"
   ]
  },
  {
   "cell_type": "code",
   "execution_count": null,
   "id": "87c82c5d",
   "metadata": {},
   "outputs": [],
   "source": [
    "# Initialize ModelComparison with reports directory\n",
    "reports_dir = os.path.join('..', 'reports')\n",
    "model_comparison = ModelComparison(reports_dir)\n",
    "\n",
    "# Load the results\n",
    "results_df = model_comparison.load_results()\n",
    "results_df.round(3)"
   ]
  },
  {
   "cell_type": "markdown",
   "id": "7bc63259",
   "metadata": {},
   "source": [
    "## 2. Visualize Model Performance"
   ]
  },
  {
   "cell_type": "code",
   "execution_count": null,
   "id": "f72d8124",
   "metadata": {},
   "outputs": [],
   "source": [
    "def plot_model_comparison(results_df):\n",
    "    metrics = [\"Precision\", \"Recall\", \"F-beta Score\", \"PR-AUC\"]\n",
    "    model_names = results_df.index\n",
    "    n_models = len(model_names)\n",
    "    n_metrics = len(metrics)\n",
    "    \n",
    "    # Create subplots\n",
    "    fig, axes = plt.subplots(1, n_metrics, figsize=(20, 6), sharey=True)\n",
    "    fig.suptitle(\"Model Comparison Across Metrics\", fontsize=16, y=1.05)\n",
    "    \n",
    "    # Color palette\n",
    "    colors = plt.cm.viridis(np.linspace(0, 1, n_models))\n",
    "    \n",
    "    # Plot each metric\n",
    "    for i, metric in enumerate(metrics):\n",
    "        values = results_df[metric]\n",
    "        bars = axes[i].bar(range(n_models), values, color=colors)\n",
    "        \n",
    "        # Customize subplot\n",
    "        axes[i].set_title(metric)\n",
    "        axes[i].set_xticks(range(n_models))\n",
    "        axes[i].set_xticklabels(model_names, rotation=45, ha='right')\n",
    "        if i == 0:\n",
    "            axes[i].set_ylabel('Score')\n",
    "        \n",
    "        # Add value labels\n",
    "        for bar in bars:\n",
    "            height = bar.get_height()\n",
    "            axes[i].text(bar.get_x() + bar.get_width()/2., height,\n",
    "                        f'{height:.3f}',\n",
    "                        ha='center', va='bottom')\n",
    "    \n",
    "    plt.tight_layout()\n",
    "    return fig\n",
    "\n",
    "# Create visualization\n",
    "fig = plot_model_comparison(results_df)\n",
    "plt.show()"
   ]
  },
  {
   "cell_type": "markdown",
   "id": "15e84203",
   "metadata": {},
   "source": [
    "## 3. Model Ranking Analysis"
   ]
  },
  {
   "cell_type": "code",
   "execution_count": null,
   "id": "6f279b21",
   "metadata": {},
   "outputs": [],
   "source": [
    "# Calculate overall ranking based on mean performance across metrics\n",
    "rankings = results_df.rank(ascending=False)\n",
    "mean_ranks = rankings.mean(axis=1).sort_values()\n",
    "\n",
    "print(\"Model Rankings (lower is better):\")\n",
    "print(mean_ranks)\n",
    "\n",
    "# Best performing model\n",
    "best_model = mean_ranks.index[0]\n",
    "print(f\"\\nBest Overall Model: {best_model}\")\n",
    "print(\"\\nPerformance Metrics:\")\n",
    "print(results_df.loc[best_model].round(3))"
   ]
  }
 ],
 "metadata": {
  "language_info": {
   "name": "python"
  }
 },
 "nbformat": 4,
 "nbformat_minor": 5
}
